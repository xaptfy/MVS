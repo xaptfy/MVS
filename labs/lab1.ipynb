{
 "cells": [
  {
   "cell_type": "code",
   "execution_count": 9,
   "id": "7acc74f4",
   "metadata": {},
   "outputs": [],
   "source": [
    "import numpy as np\n",
    "import torch\n",
    "import torch.nn as nn\n",
    "\n",
    "class Conv2D:\n",
    "    def __init__(self, image, kernel_size):\n",
    "        self.image = image\n",
    "        self.kernel_size = (kernel_size, kernel_size) if isinstance(kernel_size, int) else kernel_size\n",
    "\n",
    "        # Инициализация весов ядра случайными значениями в PyTorch\n",
    "        self.weight_tensor_torch = torch.randn(1, 1, *self.kernel_size)\n",
    "        self.weight_tensor_numpy = self.weight_tensor_torch[0, 0].numpy()\n",
    "\n",
    "    def convolution2d(self):\n",
    "        image_height, image_width = self.image.shape\n",
    "        kernel_height, kernel_width = self.kernel_size\n",
    "\n",
    "        # Вычисляем размеры выходного изображения\n",
    "        output_height = image_height - kernel_height + 1\n",
    "        output_width = image_width - kernel_width + 1\n",
    "\n",
    "        # Создаем массив для хранения результата свертки\n",
    "        output = np.zeros((output_height, output_width))\n",
    "\n",
    "        # Проходим по каждому пикселю в выходном изображении\n",
    "        for y in range(output_height):\n",
    "            for x in range(output_width):\n",
    "                # Производим операцию свертки для каждого пикселя\n",
    "                output[y, x] = np.sum(self.image[y:y+kernel_height, x:x+kernel_width] * self.weight_tensor_numpy)\n",
    "\n",
    "        return output\n",
    "\n",
    "    def torch_convolution2d(self):\n",
    "        image_tensor = torch.from_numpy(self.image)\n",
    "        image_tensor = image_tensor.unsqueeze(0).unsqueeze(0).float()  # Добавляем размерность канала и пакета\n",
    "\n",
    "        # Выполняем операцию свертки в PyTorch\n",
    "        torch_conv = torch.nn.functional.conv2d(image_tensor, self.weight_tensor_torch, bias=None, stride=1, padding=0)\n",
    "\n",
    "        return torch_conv.squeeze().numpy()  # Убираем лишние размерности\n",
    "\n",
    "    def test(self):\n",
    "        # Проверка на совпадение результатов свертки в NumPy и PyTorch\n",
    "        result_numpy = self.convolution2d()\n",
    "        result_torch = self.torch_convolution2d()\n",
    "        \n",
    "        assert np.allclose(result_numpy, result_torch), \"Результаты свертки не совпадают\"\n"
   ]
  },
  {
   "cell_type": "code",
   "execution_count": 13,
   "id": "5b7a3600",
   "metadata": {},
   "outputs": [
    {
     "name": "stdout",
     "output_type": "stream",
     "text": [
      "Тест 1 пройден\n",
      "Тест 2 пройден\n",
      "Тест 3 пройден\n"
     ]
    }
   ],
   "source": [
    "def test_convolution2d():\n",
    "    # Тест 1: Сверка результатов свертки на простых данных\n",
    "    image1 = np.array([[1, 2],\n",
    "                       [3, 4]])\n",
    "    kernel_size1 = 2\n",
    "    conv1 = Conv2D(image1, kernel_size1)\n",
    "    conv1.test()\n",
    "    print(\"Тест 1 пройден\")\n",
    "\n",
    "    # Тест 2: Проверка свертки на изображении с одним пикселем\n",
    "    image2 = np.array([[5]])\n",
    "    kernel_size2 = 1\n",
    "    conv2 = Conv2D(image2, kernel_size2)\n",
    "    conv2.test()\n",
    "    print(\"Тест 2 пройден\")\n",
    "\n",
    "    # Тест 3: Свертка на случайном изображении\n",
    "    image3 = np.random.randint(0, 10, (5, 5))\n",
    "    kernel_size3 = 3\n",
    "    conv3 = Conv2D(image3, kernel_size3)\n",
    "    conv3.test()\n",
    "    print(\"Тест 3 пройден\")\n",
    "\n",
    "    # Добавьте дополнительные тесты при необходимости\n",
    "\n",
    "# Запуск тестов\n",
    "test_convolution2d()\n"
   ]
  },
  {
   "cell_type": "code",
   "execution_count": null,
   "id": "5320b3f6",
   "metadata": {},
   "outputs": [],
   "source": []
  }
 ],
 "metadata": {
  "kernelspec": {
   "display_name": "Python 3 (ipykernel)",
   "language": "python",
   "name": "python3"
  },
  "language_info": {
   "codemirror_mode": {
    "name": "ipython",
    "version": 3
   },
   "file_extension": ".py",
   "mimetype": "text/x-python",
   "name": "python",
   "nbconvert_exporter": "python",
   "pygments_lexer": "ipython3",
   "version": "3.10.4"
  }
 },
 "nbformat": 4,
 "nbformat_minor": 5
}
